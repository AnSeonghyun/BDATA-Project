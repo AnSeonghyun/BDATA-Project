{
 "cells": [
  {
   "cell_type": "code",
   "execution_count": 45,
   "metadata": {},
   "outputs": [
    {
     "name": "stdout",
     "output_type": "stream",
     "text": [
      "<class 'pandas.core.frame.DataFrame'>\n",
      "RangeIndex: 539 entries, 0 to 538\n",
      "Data columns (total 5 columns):\n",
      " #   Column      Non-Null Count  Dtype         \n",
      "---  ------      --------------  -----         \n",
      " 0   Date        539 non-null    datetime64[ns]\n",
      " 1   Close       539 non-null    int64         \n",
      " 2   Volume      539 non-null    int64         \n",
      " 3   Percentage  539 non-null    float64       \n",
      " 4   Exchange    539 non-null    int64         \n",
      "dtypes: datetime64[ns](1), float64(1), int64(3)\n",
      "memory usage: 21.2 KB\n"
     ]
    }
   ],
   "source": [
    "import numpy as np\n",
    "import pandas as pd\n",
    "import matplotlib.pyplot as plt\n",
    "import seaborn as sns\n",
    "import statsmodels\n",
    "from statsmodels.tsa.stattools import adfuller\n",
    "from statsmodels.tsa.stattools import coint\n",
    "import random\n",
    "from dateutil.parser import parse\n",
    "from scipy import signal\n",
    "from scipy.interpolate import interp1d\n",
    "from scipy import stats\n",
    "from statsmodels.tsa.stattools import adfuller, kpss, acf, pacf, grangercausalitytests\n",
    "from statsmodels.nonparametric.smoothers_lowess import lowess\n",
    "from statsmodels.tsa.seasonal import seasonal_decompose\n",
    "from statsmodels.graphics.tsaplots import plot_acf, plot_pacf\n",
    "from sklearn.metrics import mean_squared_error\n",
    "from statsmodels.tsa.vector_ar.vecm import coint_johansen\n",
    "%matplotlib inline\n",
    "\n",
    "np.random.seed(42)\n",
    "\n",
    "\n",
    "%matplotlib inline\n",
    "\n",
    "data = pd.read_excel('한화생명.xlsx') # 여기서는 Unit root test, Granger Causality, 변동성의 예시로 한화생명 사용했습니다.\n",
    "\n",
    "data.info()"
   ]
  },
  {
   "cell_type": "markdown",
   "metadata": {},
   "source": [
    "# Unit root test"
   ]
  },
  {
   "cell_type": "code",
   "execution_count": 46,
   "metadata": {},
   "outputs": [],
   "source": [
    "class StationarityTests:\n",
    "    def __init__(self, significance=.05):\n",
    "        self.SignificanceLevel = significance\n",
    "        self.pValue = None\n",
    "        self.isStationary = None\n",
    "    \n",
    "    def ADF_Stationarity_Test(self, timeseries, printResults = True):\n",
    "\n",
    "        #Dickey-Fuller test:\n",
    "        adfTest = adfuller(timeseries, autolag='AIC')\n",
    "        \n",
    "        self.pValue = adfTest[1]\n",
    "        \n",
    "        if (self.pValue<self.SignificanceLevel):\n",
    "            self.isStationary = True\n",
    "        else:\n",
    "            self.isStationary = False\n",
    "        \n",
    "        if printResults:\n",
    "            dfResults = pd.Series(adfTest[0:4], index=['ADF Test Statistic','P-Value','# Lags Used','# Observations Used'])\n",
    "\n",
    "            #Add Critical Values\n",
    "            for key,value in adfTest[4].items():\n",
    "                dfResults['Critical Value (%s)'%key] = value\n",
    "\n",
    "            print('Augmented Dickey-Fuller Test Results:')\n",
    "            print(dfResults)"
   ]
  },
  {
   "cell_type": "code",
   "execution_count": 47,
   "metadata": {},
   "outputs": [
    {
     "name": "stdout",
     "output_type": "stream",
     "text": [
      "Augmented Dickey-Fuller Test Results:\n",
      "ADF Test Statistic       -0.719776\n",
      "P-Value                   0.841560\n",
      "# Lags Used               7.000000\n",
      "# Observations Used     531.000000\n",
      "Critical Value (1%)      -3.442725\n",
      "Critical Value (5%)      -2.866998\n",
      "Critical Value (10%)     -2.569677\n",
      "dtype: float64\n",
      "Is the time series stationary? False\n"
     ]
    }
   ],
   "source": [
    "df_1 = data[[\"Close\"]]\n",
    "df_1 = df_1.dropna()\n",
    "\n",
    "sTest = StationarityTests()\n",
    "sTest.ADF_Stationarity_Test(df_1, printResults = True)\n",
    "print(\"Is the time series stationary? {0}\".format(sTest.isStationary))"
   ]
  },
  {
   "cell_type": "code",
   "execution_count": 48,
   "metadata": {},
   "outputs": [
    {
     "name": "stdout",
     "output_type": "stream",
     "text": [
      "Augmented Dickey-Fuller Test Results:\n",
      "ADF Test Statistic        0.776520\n",
      "P-Value                   0.991248\n",
      "# Lags Used              19.000000\n",
      "# Observations Used     519.000000\n",
      "Critical Value (1%)      -3.443013\n",
      "Critical Value (5%)      -2.867125\n",
      "Critical Value (10%)     -2.569745\n",
      "dtype: float64\n",
      "Is the time series stationary? False\n"
     ]
    }
   ],
   "source": [
    "df_2 = data[[\"Volume\"]]\n",
    "df_2 = df_2.dropna()\n",
    "sTest = StationarityTests()\n",
    "sTest.ADF_Stationarity_Test(df_2, printResults = True)\n",
    "print(\"Is the time series stationary? {0}\".format(sTest.isStationary))"
   ]
  },
  {
   "cell_type": "code",
   "execution_count": 49,
   "metadata": {},
   "outputs": [
    {
     "name": "stdout",
     "output_type": "stream",
     "text": [
      "Augmented Dickey-Fuller Test Results:\n",
      "ADF Test Statistic       -1.423091\n",
      "P-Value                   0.571157\n",
      "# Lags Used              14.000000\n",
      "# Observations Used     524.000000\n",
      "Critical Value (1%)      -3.442891\n",
      "Critical Value (5%)      -2.867072\n",
      "Critical Value (10%)     -2.569716\n",
      "dtype: float64\n",
      "Is the time series stationary? False\n"
     ]
    }
   ],
   "source": [
    "df_3 = data[[\"Percentage\"]]\n",
    "df_3 = df_3.dropna()\n",
    "sTest = StationarityTests()\n",
    "sTest.ADF_Stationarity_Test(df_3, printResults = True)\n",
    "print(\"Is the time series stationary? {0}\".format(sTest.isStationary))"
   ]
  },
  {
   "cell_type": "code",
   "execution_count": 50,
   "metadata": {},
   "outputs": [
    {
     "name": "stdout",
     "output_type": "stream",
     "text": [
      "Augmented Dickey-Fuller Test Results:\n",
      "ADF Test Statistic       -2.660422\n",
      "P-Value                   0.081141\n",
      "# Lags Used              10.000000\n",
      "# Observations Used     528.000000\n",
      "Critical Value (1%)      -3.442796\n",
      "Critical Value (5%)      -2.867030\n",
      "Critical Value (10%)     -2.569694\n",
      "dtype: float64\n",
      "Is the time series stationary? False\n"
     ]
    }
   ],
   "source": [
    "df_4 = data[[\"Exchange\"]]\n",
    "df_4 = df_4.dropna()\n",
    "sTest = StationarityTests()\n",
    "sTest.ADF_Stationarity_Test(df_4, printResults = True)\n",
    "print(\"Is the time series stationary? {0}\".format(sTest.isStationary))"
   ]
  },
  {
   "cell_type": "code",
   "execution_count": 51,
   "metadata": {},
   "outputs": [],
   "source": [
    "data = data.set_index('Date')"
   ]
  },
  {
   "cell_type": "code",
   "execution_count": 52,
   "metadata": {},
   "outputs": [
    {
     "data": {
      "text/html": [
       "<div>\n",
       "<style scoped>\n",
       "    .dataframe tbody tr th:only-of-type {\n",
       "        vertical-align: middle;\n",
       "    }\n",
       "\n",
       "    .dataframe tbody tr th {\n",
       "        vertical-align: top;\n",
       "    }\n",
       "\n",
       "    .dataframe thead th {\n",
       "        text-align: right;\n",
       "    }\n",
       "</style>\n",
       "<table border=\"1\" class=\"dataframe\">\n",
       "  <thead>\n",
       "    <tr style=\"text-align: right;\">\n",
       "      <th></th>\n",
       "      <th>Close</th>\n",
       "      <th>Volume</th>\n",
       "      <th>Percentage</th>\n",
       "      <th>Exchange</th>\n",
       "    </tr>\n",
       "    <tr>\n",
       "      <th>Date</th>\n",
       "      <th></th>\n",
       "      <th></th>\n",
       "      <th></th>\n",
       "      <th></th>\n",
       "    </tr>\n",
       "  </thead>\n",
       "  <tbody>\n",
       "    <tr>\n",
       "      <th>2018-01-03</th>\n",
       "      <td>100.0</td>\n",
       "      <td>868871.0</td>\n",
       "      <td>-5.16</td>\n",
       "      <td>-68833.0</td>\n",
       "    </tr>\n",
       "    <tr>\n",
       "      <th>2018-01-04</th>\n",
       "      <td>0.0</td>\n",
       "      <td>-911898.0</td>\n",
       "      <td>2.75</td>\n",
       "      <td>-74659.0</td>\n",
       "    </tr>\n",
       "    <tr>\n",
       "      <th>2018-01-05</th>\n",
       "      <td>50.0</td>\n",
       "      <td>391787.0</td>\n",
       "      <td>2.99</td>\n",
       "      <td>407022.0</td>\n",
       "    </tr>\n",
       "    <tr>\n",
       "      <th>2018-01-08</th>\n",
       "      <td>-70.0</td>\n",
       "      <td>-571058.0</td>\n",
       "      <td>-4.50</td>\n",
       "      <td>-544730.0</td>\n",
       "    </tr>\n",
       "    <tr>\n",
       "      <th>2018-01-09</th>\n",
       "      <td>-70.0</td>\n",
       "      <td>837651.0</td>\n",
       "      <td>-2.64</td>\n",
       "      <td>9930.0</td>\n",
       "    </tr>\n",
       "  </tbody>\n",
       "</table>\n",
       "</div>"
      ],
      "text/plain": [
       "            Close    Volume  Percentage  Exchange\n",
       "Date                                             \n",
       "2018-01-03  100.0  868871.0       -5.16  -68833.0\n",
       "2018-01-04    0.0 -911898.0        2.75  -74659.0\n",
       "2018-01-05   50.0  391787.0        2.99  407022.0\n",
       "2018-01-08  -70.0 -571058.0       -4.50 -544730.0\n",
       "2018-01-09  -70.0  837651.0       -2.64    9930.0"
      ]
     },
     "execution_count": 52,
     "metadata": {},
     "output_type": "execute_result"
    }
   ],
   "source": [
    "data_diff = data.diff().dropna()\n",
    "data_diff.head()"
   ]
  },
  {
   "cell_type": "code",
   "execution_count": 53,
   "metadata": {},
   "outputs": [
    {
     "name": "stdout",
     "output_type": "stream",
     "text": [
      "Augmented Dickey-Fuller Test Results:\n",
      "ADF Test Statistic     -9.515788e+00\n",
      "P-Value                 3.159956e-16\n",
      "# Lags Used             6.000000e+00\n",
      "# Observations Used     5.310000e+02\n",
      "Critical Value (1%)    -3.442725e+00\n",
      "Critical Value (5%)    -2.866998e+00\n",
      "Critical Value (10%)   -2.569677e+00\n",
      "dtype: float64\n",
      "Is the time series stationary? True\n"
     ]
    }
   ],
   "source": [
    "df_1 = data_diff[[\"Close\"]]\n",
    "df_1 = df_1.dropna()\n",
    "sTest = StationarityTests()\n",
    "sTest.ADF_Stationarity_Test(df_1, printResults = True)\n",
    "print(\"Is the time series stationary? {0}\".format(sTest.isStationary))"
   ]
  },
  {
   "cell_type": "code",
   "execution_count": 54,
   "metadata": {},
   "outputs": [
    {
     "name": "stdout",
     "output_type": "stream",
     "text": [
      "Augmented Dickey-Fuller Test Results:\n",
      "ADF Test Statistic       -3.305790\n",
      "P-Value                   0.014622\n",
      "# Lags Used              18.000000\n",
      "# Observations Used     519.000000\n",
      "Critical Value (1%)      -3.443013\n",
      "Critical Value (5%)      -2.867125\n",
      "Critical Value (10%)     -2.569745\n",
      "dtype: float64\n",
      "Is the time series stationary? True\n"
     ]
    }
   ],
   "source": [
    "df_2 = data_diff[[\"Volume\"]]\n",
    "df_2 = df_2.dropna()\n",
    "sTest = StationarityTests()\n",
    "sTest.ADF_Stationarity_Test(df_2, printResults = True)\n",
    "print(\"Is the time series stationary? {0}\".format(sTest.isStationary))"
   ]
  },
  {
   "cell_type": "code",
   "execution_count": 55,
   "metadata": {},
   "outputs": [
    {
     "name": "stdout",
     "output_type": "stream",
     "text": [
      "Augmented Dickey-Fuller Test Results:\n",
      "ADF Test Statistic     -1.048537e+01\n",
      "P-Value                 1.184183e-18\n",
      "# Lags Used             1.300000e+01\n",
      "# Observations Used     5.240000e+02\n",
      "Critical Value (1%)    -3.442891e+00\n",
      "Critical Value (5%)    -2.867072e+00\n",
      "Critical Value (10%)   -2.569716e+00\n",
      "dtype: float64\n",
      "Is the time series stationary? True\n"
     ]
    }
   ],
   "source": [
    "df_3 = data_diff[[\"Percentage\"]]\n",
    "df_3 = df_3.dropna()\n",
    "sTest = StationarityTests()\n",
    "sTest.ADF_Stationarity_Test(df_3, printResults = True)\n",
    "print(\"Is the time series stationary? {0}\".format(sTest.isStationary))"
   ]
  },
  {
   "cell_type": "code",
   "execution_count": 56,
   "metadata": {},
   "outputs": [
    {
     "name": "stdout",
     "output_type": "stream",
     "text": [
      "Augmented Dickey-Fuller Test Results:\n",
      "ADF Test Statistic     -8.262409e+00\n",
      "P-Value                 5.041873e-13\n",
      "# Lags Used             1.500000e+01\n",
      "# Observations Used     5.220000e+02\n",
      "Critical Value (1%)    -3.442940e+00\n",
      "Critical Value (5%)    -2.867093e+00\n",
      "Critical Value (10%)   -2.569727e+00\n",
      "dtype: float64\n",
      "Is the time series stationary? True\n"
     ]
    }
   ],
   "source": [
    "df_4 = data_diff[[\"Exchange\"]]\n",
    "df_4 = df_4.dropna()\n",
    "sTest = StationarityTests()\n",
    "sTest.ADF_Stationarity_Test(df_4, printResults = True)\n",
    "print(\"Is the time series stationary? {0}\".format(sTest.isStationary))"
   ]
  },
  {
   "cell_type": "code",
   "execution_count": 57,
   "metadata": {},
   "outputs": [],
   "source": [
    "tickers = ['Close', 'Volume']"
   ]
  },
  {
   "cell_type": "code",
   "execution_count": 58,
   "metadata": {},
   "outputs": [
    {
     "data": {
      "text/plain": [
       "Text(0.5, 1.0, 'Close and  Volume')"
      ]
     },
     "execution_count": 58,
     "metadata": {},
     "output_type": "execute_result"
    },
    {
     "data": {
      "image/png": "[encoded data removed]",
      "text/plain": [
       "<Figure size 1080x504 with 1 Axes>"
      ]
     },
     "metadata": {
      "needs_background": "light"
     },
     "output_type": "display_data"
    }
   ],
   "source": [
    "pd.concat([data[tickers[0]], data[tickers[1]]], axis=1).plot(figsize=(15,7))\n",
    "plt.ylabel('Price level');\n",
    "plt.xlabel('Time');\n",
    "title = tickers[0] + ' and  ' + tickers[1]\n",
    "plt.title(title)"
   ]
  },
  {
   "cell_type": "code",
   "execution_count": 59,
   "metadata": {},
   "outputs": [
    {
     "data": {
      "text/plain": [
       "Text(0.5, 1.0, 'Close and  Volume')"
      ]
     },
     "execution_count": 59,
     "metadata": {},
     "output_type": "execute_result"
    },
    {
     "data": {
      "image/png": "[encoded data removed]",
      "text/plain": [
       "<Figure size 1080x504 with 1 Axes>"
      ]
     },
     "metadata": {
      "needs_background": "light"
     },
     "output_type": "display_data"
    }
   ],
   "source": [
    "pd.concat([data_diff[tickers[0]], data_diff[tickers[1]]], axis=1).plot(figsize=(15,7))\n",
    "plt.ylabel('Price level');\n",
    "plt.xlabel('Time');\n",
    "title = tickers[0] + ' and  ' + tickers[1]\n",
    "plt.title(title)"
   ]
  },
  {
   "cell_type": "markdown",
   "metadata": {},
   "source": [
    "# Granger Causality"
   ]
  },
  {
   "cell_type": "code",
   "execution_count": 60,
   "metadata": {},
   "outputs": [
    {
     "data": {
      "text/html": [
       "<div>\n",
       "<style scoped>\n",
       "    .dataframe tbody tr th:only-of-type {\n",
       "        vertical-align: middle;\n",
       "    }\n",
       "\n",
       "    .dataframe tbody tr th {\n",
       "        vertical-align: top;\n",
       "    }\n",
       "\n",
       "    .dataframe thead th {\n",
       "        text-align: right;\n",
       "    }\n",
       "</style>\n",
       "<table border=\"1\" class=\"dataframe\">\n",
       "  <thead>\n",
       "    <tr style=\"text-align: right;\">\n",
       "      <th></th>\n",
       "      <th>Close</th>\n",
       "      <th>Volume</th>\n",
       "      <th>Percentage</th>\n",
       "      <th>Exchange</th>\n",
       "    </tr>\n",
       "    <tr>\n",
       "      <th>Date</th>\n",
       "      <th></th>\n",
       "      <th></th>\n",
       "      <th></th>\n",
       "      <th></th>\n",
       "    </tr>\n",
       "  </thead>\n",
       "  <tbody>\n",
       "    <tr>\n",
       "      <th>2018-01-02</th>\n",
       "      <td>6850</td>\n",
       "      <td>787670</td>\n",
       "      <td>8.57</td>\n",
       "      <td>463388</td>\n",
       "    </tr>\n",
       "    <tr>\n",
       "      <th>2018-01-03</th>\n",
       "      <td>6950</td>\n",
       "      <td>1656541</td>\n",
       "      <td>3.41</td>\n",
       "      <td>394555</td>\n",
       "    </tr>\n",
       "    <tr>\n",
       "      <th>2018-01-04</th>\n",
       "      <td>6950</td>\n",
       "      <td>744643</td>\n",
       "      <td>6.16</td>\n",
       "      <td>319896</td>\n",
       "    </tr>\n",
       "    <tr>\n",
       "      <th>2018-01-05</th>\n",
       "      <td>7000</td>\n",
       "      <td>1136430</td>\n",
       "      <td>9.15</td>\n",
       "      <td>726918</td>\n",
       "    </tr>\n",
       "    <tr>\n",
       "      <th>2018-01-08</th>\n",
       "      <td>6930</td>\n",
       "      <td>565372</td>\n",
       "      <td>4.65</td>\n",
       "      <td>182188</td>\n",
       "    </tr>\n",
       "  </tbody>\n",
       "</table>\n",
       "</div>"
      ],
      "text/plain": [
       "            Close   Volume  Percentage  Exchange\n",
       "Date                                            \n",
       "2018-01-02   6850   787670        8.57    463388\n",
       "2018-01-03   6950  1656541        3.41    394555\n",
       "2018-01-04   6950   744643        6.16    319896\n",
       "2018-01-05   7000  1136430        9.15    726918\n",
       "2018-01-08   6930   565372        4.65    182188"
      ]
     },
     "execution_count": 60,
     "metadata": {},
     "output_type": "execute_result"
    }
   ],
   "source": [
    "data = pd.read_excel(\"한화생명.xlsx\",index_col='Date',sep='\\s+',nrows=539)\n",
    "data.head()"
   ]
  },
  {
   "cell_type": "code",
   "execution_count": 61,
   "metadata": {},
   "outputs": [
    {
     "data": {
      "text/html": [
       "<div>\n",
       "<style scoped>\n",
       "    .dataframe tbody tr th:only-of-type {\n",
       "        vertical-align: middle;\n",
       "    }\n",
       "\n",
       "    .dataframe tbody tr th {\n",
       "        vertical-align: top;\n",
       "    }\n",
       "\n",
       "    .dataframe thead th {\n",
       "        text-align: right;\n",
       "    }\n",
       "</style>\n",
       "<table border=\"1\" class=\"dataframe\">\n",
       "  <thead>\n",
       "    <tr style=\"text-align: right;\">\n",
       "      <th></th>\n",
       "      <th>Close</th>\n",
       "      <th>Volume</th>\n",
       "      <th>Percentage</th>\n",
       "      <th>Exchange</th>\n",
       "    </tr>\n",
       "    <tr>\n",
       "      <th>Date</th>\n",
       "      <th></th>\n",
       "      <th></th>\n",
       "      <th></th>\n",
       "      <th></th>\n",
       "    </tr>\n",
       "  </thead>\n",
       "  <tbody>\n",
       "    <tr>\n",
       "      <th>2018-01-03</th>\n",
       "      <td>100.0</td>\n",
       "      <td>868871.0</td>\n",
       "      <td>-5.16</td>\n",
       "      <td>-68833.0</td>\n",
       "    </tr>\n",
       "    <tr>\n",
       "      <th>2018-01-04</th>\n",
       "      <td>0.0</td>\n",
       "      <td>-911898.0</td>\n",
       "      <td>2.75</td>\n",
       "      <td>-74659.0</td>\n",
       "    </tr>\n",
       "    <tr>\n",
       "      <th>2018-01-05</th>\n",
       "      <td>50.0</td>\n",
       "      <td>391787.0</td>\n",
       "      <td>2.99</td>\n",
       "      <td>407022.0</td>\n",
       "    </tr>\n",
       "    <tr>\n",
       "      <th>2018-01-08</th>\n",
       "      <td>-70.0</td>\n",
       "      <td>-571058.0</td>\n",
       "      <td>-4.50</td>\n",
       "      <td>-544730.0</td>\n",
       "    </tr>\n",
       "    <tr>\n",
       "      <th>2018-01-09</th>\n",
       "      <td>-70.0</td>\n",
       "      <td>837651.0</td>\n",
       "      <td>-2.64</td>\n",
       "      <td>9930.0</td>\n",
       "    </tr>\n",
       "  </tbody>\n",
       "</table>\n",
       "</div>"
      ],
      "text/plain": [
       "            Close    Volume  Percentage  Exchange\n",
       "Date                                             \n",
       "2018-01-03  100.0  868871.0       -5.16  -68833.0\n",
       "2018-01-04    0.0 -911898.0        2.75  -74659.0\n",
       "2018-01-05   50.0  391787.0        2.99  407022.0\n",
       "2018-01-08  -70.0 -571058.0       -4.50 -544730.0\n",
       "2018-01-09  -70.0  837651.0       -2.64    9930.0"
      ]
     },
     "execution_count": 61,
     "metadata": {},
     "output_type": "execute_result"
    }
   ],
   "source": [
    "data_diff = data.diff().dropna()\n",
    "data_diff.head()"
   ]
  },
  {
   "cell_type": "code",
   "execution_count": 62,
   "metadata": {},
   "outputs": [
    {
     "name": "stdout",
     "output_type": "stream",
     "text": [
      "\n",
      "Granger Causality\n",
      "number of lags (no zero) 1\n",
      "ssr based F test:         F=0.3808  , p=0.5374  , df_denom=534, df_num=1\n",
      "ssr based chi2 test:   chi2=0.3829  , p=0.5360  , df=1\n",
      "likelihood ratio test: chi2=0.3828  , p=0.5361  , df=1\n",
      "parameter F test:         F=0.3808  , p=0.5374  , df_denom=534, df_num=1\n",
      "\n",
      "Granger Causality\n",
      "number of lags (no zero) 2\n",
      "ssr based F test:         F=0.7461  , p=0.4747  , df_denom=531, df_num=2\n",
      "ssr based chi2 test:   chi2=1.5062  , p=0.4709  , df=2\n",
      "likelihood ratio test: chi2=1.5040  , p=0.4714  , df=2\n",
      "parameter F test:         F=0.7461  , p=0.4747  , df_denom=531, df_num=2\n",
      "\n",
      "Granger Causality\n",
      "number of lags (no zero) 3\n",
      "ssr based F test:         F=0.7637  , p=0.5148  , df_denom=528, df_num=3\n",
      "ssr based chi2 test:   chi2=2.3214  , p=0.5084  , df=3\n",
      "likelihood ratio test: chi2=2.3164  , p=0.5094  , df=3\n",
      "parameter F test:         F=0.7637  , p=0.5148  , df_denom=528, df_num=3\n",
      "\n",
      "Granger Causality\n",
      "number of lags (no zero) 4\n",
      "ssr based F test:         F=0.5814  , p=0.6762  , df_denom=525, df_num=4\n",
      "ssr based chi2 test:   chi2=2.3656  , p=0.6688  , df=4\n",
      "likelihood ratio test: chi2=2.3604  , p=0.6698  , df=4\n",
      "parameter F test:         F=0.5814  , p=0.6762  , df_denom=525, df_num=4\n",
      "\n",
      "Granger Causality\n",
      "number of lags (no zero) 5\n",
      "ssr based F test:         F=0.4605  , p=0.8057  , df_denom=522, df_num=5\n",
      "ssr based chi2 test:   chi2=2.3511  , p=0.7987  , df=5\n",
      "likelihood ratio test: chi2=2.3460  , p=0.7995  , df=5\n",
      "parameter F test:         F=0.4605  , p=0.8057  , df_denom=522, df_num=5\n",
      "\n",
      "Granger Causality\n",
      "number of lags (no zero) 6\n",
      "ssr based F test:         F=0.5380  , p=0.7794  , df_denom=519, df_num=6\n",
      "ssr based chi2 test:   chi2=3.3090  , p=0.7692  , df=6\n",
      "likelihood ratio test: chi2=3.2987  , p=0.7705  , df=6\n",
      "parameter F test:         F=0.5380  , p=0.7794  , df_denom=519, df_num=6\n",
      "\n",
      "Granger Causality\n",
      "number of lags (no zero) 7\n",
      "ssr based F test:         F=0.4611  , p=0.8627  , df_denom=516, df_num=7\n",
      "ssr based chi2 test:   chi2=3.3212  , p=0.8538  , df=7\n",
      "likelihood ratio test: chi2=3.3109  , p=0.8548  , df=7\n",
      "parameter F test:         F=0.4611  , p=0.8627  , df_denom=516, df_num=7\n",
      "\n",
      "Granger Causality\n",
      "number of lags (no zero) 8\n",
      "ssr based F test:         F=0.5388  , p=0.8274  , df_denom=513, df_num=8\n",
      "ssr based chi2 test:   chi2=4.4532  , p=0.8141  , df=8\n",
      "likelihood ratio test: chi2=4.4346  , p=0.8159  , df=8\n",
      "parameter F test:         F=0.5388  , p=0.8274  , df_denom=513, df_num=8\n",
      "\n",
      "Granger Causality\n",
      "number of lags (no zero) 9\n",
      "ssr based F test:         F=0.5741  , p=0.8187  , df_denom=510, df_num=9\n",
      "ssr based chi2 test:   chi2=5.3593  , p=0.8019  , df=9\n",
      "likelihood ratio test: chi2=5.3324  , p=0.8044  , df=9\n",
      "parameter F test:         F=0.5741  , p=0.8187  , df_denom=510, df_num=9\n",
      "\n",
      "Granger Causality\n",
      "number of lags (no zero) 10\n",
      "ssr based F test:         F=0.6053  , p=0.8098  , df_denom=507, df_num=10\n",
      "ssr based chi2 test:   chi2=6.3041  , p=0.7891  , df=10\n",
      "likelihood ratio test: chi2=6.2668  , p=0.7924  , df=10\n",
      "parameter F test:         F=0.6053  , p=0.8098  , df_denom=507, df_num=10\n",
      "\n",
      "Granger Causality\n",
      "number of lags (no zero) 11\n",
      "ssr based F test:         F=0.6280  , p=0.8053  , df_denom=504, df_num=11\n",
      "ssr based chi2 test:   chi2=7.2238  , p=0.7807  , df=11\n",
      "likelihood ratio test: chi2=7.1747  , p=0.7848  , df=11\n",
      "parameter F test:         F=0.6280  , p=0.8053  , df_denom=504, df_num=11\n",
      "\n",
      "Granger Causality\n",
      "number of lags (no zero) 12\n",
      "ssr based F test:         F=0.7336  , p=0.7188  , df_denom=501, df_num=12\n",
      "ssr based chi2 test:   chi2=9.2425  , p=0.6821  , df=12\n",
      "likelihood ratio test: chi2=9.1622  , p=0.6890  , df=12\n",
      "parameter F test:         F=0.7336  , p=0.7188  , df_denom=501, df_num=12\n",
      "\n",
      "Granger Causality\n",
      "number of lags (no zero) 13\n",
      "ssr based F test:         F=0.7165  , p=0.7476  , df_denom=498, df_num=13\n",
      "ssr based chi2 test:   chi2=9.8198  , p=0.7086  , df=13\n",
      "likelihood ratio test: chi2=9.7291  , p=0.7159  , df=13\n",
      "parameter F test:         F=0.7165  , p=0.7476  , df_denom=498, df_num=13\n",
      "\n",
      "Granger Causality\n",
      "number of lags (no zero) 14\n",
      "ssr based F test:         F=0.6729  , p=0.8015  , df_denom=495, df_num=14\n",
      "ssr based chi2 test:   chi2=9.9730  , p=0.7642  , df=14\n",
      "likelihood ratio test: chi2=9.8793  , p=0.7710  , df=14\n",
      "parameter F test:         F=0.6729  , p=0.8015  , df_denom=495, df_num=14\n",
      "\n",
      "Granger Causality\n",
      "number of lags (no zero) 15\n",
      "ssr based F test:         F=0.7364  , p=0.7478  , df_denom=492, df_num=15\n",
      "ssr based chi2 test:   chi2=11.7414 , p=0.6985  , df=15\n",
      "likelihood ratio test: chi2=11.6115 , p=0.7082  , df=15\n",
      "parameter F test:         F=0.7364  , p=0.7478  , df_denom=492, df_num=15\n"
     ]
    }
   ],
   "source": [
    "res = grangercausalitytests(data_diff[['Volume','Close']],maxlag=15)"
   ]
  },
  {
   "cell_type": "code",
   "execution_count": 63,
   "metadata": {},
   "outputs": [
    {
     "name": "stdout",
     "output_type": "stream",
     "text": [
      "\n",
      "Granger Causality\n",
      "number of lags (no zero) 1\n",
      "ssr based F test:         F=0.0586  , p=0.8088  , df_denom=534, df_num=1\n",
      "ssr based chi2 test:   chi2=0.0590  , p=0.8082  , df=1\n",
      "likelihood ratio test: chi2=0.0589  , p=0.8082  , df=1\n",
      "parameter F test:         F=0.0586  , p=0.8088  , df_denom=534, df_num=1\n",
      "\n",
      "Granger Causality\n",
      "number of lags (no zero) 2\n",
      "ssr based F test:         F=0.0243  , p=0.9760  , df_denom=531, df_num=2\n",
      "ssr based chi2 test:   chi2=0.0490  , p=0.9758  , df=2\n",
      "likelihood ratio test: chi2=0.0490  , p=0.9758  , df=2\n",
      "parameter F test:         F=0.0243  , p=0.9760  , df_denom=531, df_num=2\n",
      "\n",
      "Granger Causality\n",
      "number of lags (no zero) 3\n",
      "ssr based F test:         F=0.1190  , p=0.9489  , df_denom=528, df_num=3\n",
      "ssr based chi2 test:   chi2=0.3619  , p=0.9480  , df=3\n",
      "likelihood ratio test: chi2=0.3618  , p=0.9480  , df=3\n",
      "parameter F test:         F=0.1190  , p=0.9489  , df_denom=528, df_num=3\n",
      "\n",
      "Granger Causality\n",
      "number of lags (no zero) 4\n",
      "ssr based F test:         F=0.1500  , p=0.9630  , df_denom=525, df_num=4\n",
      "ssr based chi2 test:   chi2=0.6104  , p=0.9619  , df=4\n",
      "likelihood ratio test: chi2=0.6100  , p=0.9619  , df=4\n",
      "parameter F test:         F=0.1500  , p=0.9630  , df_denom=525, df_num=4\n",
      "\n",
      "Granger Causality\n",
      "number of lags (no zero) 5\n",
      "ssr based F test:         F=0.1850  , p=0.9683  , df_denom=522, df_num=5\n",
      "ssr based chi2 test:   chi2=0.9443  , p=0.9669  , df=5\n",
      "likelihood ratio test: chi2=0.9434  , p=0.9670  , df=5\n",
      "parameter F test:         F=0.1850  , p=0.9683  , df_denom=522, df_num=5\n",
      "\n",
      "Granger Causality\n",
      "number of lags (no zero) 6\n",
      "ssr based F test:         F=0.2725  , p=0.9497  , df_denom=519, df_num=6\n",
      "ssr based chi2 test:   chi2=1.6763  , p=0.9469  , df=6\n",
      "likelihood ratio test: chi2=1.6736  , p=0.9471  , df=6\n",
      "parameter F test:         F=0.2725  , p=0.9497  , df_denom=519, df_num=6\n",
      "\n",
      "Granger Causality\n",
      "number of lags (no zero) 7\n",
      "ssr based F test:         F=0.5710  , p=0.7797  , df_denom=516, df_num=7\n",
      "ssr based chi2 test:   chi2=4.1130  , p=0.7667  , df=7\n",
      "likelihood ratio test: chi2=4.0971  , p=0.7685  , df=7\n",
      "parameter F test:         F=0.5710  , p=0.7797  , df_denom=516, df_num=7\n",
      "\n",
      "Granger Causality\n",
      "number of lags (no zero) 8\n",
      "ssr based F test:         F=0.5604  , p=0.8105  , df_denom=513, df_num=8\n",
      "ssr based chi2 test:   chi2=4.6318  , p=0.7961  , df=8\n",
      "likelihood ratio test: chi2=4.6117  , p=0.7982  , df=8\n",
      "parameter F test:         F=0.5604  , p=0.8105  , df_denom=513, df_num=8\n",
      "\n",
      "Granger Causality\n",
      "number of lags (no zero) 9\n",
      "ssr based F test:         F=0.4782  , p=0.8895  , df_denom=510, df_num=9\n",
      "ssr based chi2 test:   chi2=4.4642  , p=0.8783  , df=9\n",
      "likelihood ratio test: chi2=4.4455  , p=0.8797  , df=9\n",
      "parameter F test:         F=0.4782  , p=0.8895  , df_denom=510, df_num=9\n",
      "\n",
      "Granger Causality\n",
      "number of lags (no zero) 10\n",
      "ssr based F test:         F=0.9485  , p=0.4881  , df_denom=507, df_num=10\n",
      "ssr based chi2 test:   chi2=9.8776  , p=0.4513  , df=10\n",
      "likelihood ratio test: chi2=9.7863  , p=0.4594  , df=10\n",
      "parameter F test:         F=0.9485  , p=0.4881  , df_denom=507, df_num=10\n",
      "\n",
      "Granger Causality\n",
      "number of lags (no zero) 11\n",
      "ssr based F test:         F=1.0104  , p=0.4357  , df_denom=504, df_num=11\n",
      "ssr based chi2 test:   chi2=11.6213 , p=0.3928  , df=11\n",
      "likelihood ratio test: chi2=11.4951 , p=0.4028  , df=11\n",
      "parameter F test:         F=1.0104  , p=0.4357  , df_denom=504, df_num=11\n",
      "\n",
      "Granger Causality\n",
      "number of lags (no zero) 12\n",
      "ssr based F test:         F=1.0319  , p=0.4177  , df_denom=501, df_num=12\n",
      "ssr based chi2 test:   chi2=13.0003 , p=0.3690  , df=12\n",
      "likelihood ratio test: chi2=12.8423 , p=0.3806  , df=12\n",
      "parameter F test:         F=1.0319  , p=0.4177  , df_denom=501, df_num=12\n",
      "\n",
      "Granger Causality\n",
      "number of lags (no zero) 13\n",
      "ssr based F test:         F=0.9370  , p=0.5140  , df_denom=498, df_num=13\n",
      "ssr based chi2 test:   chi2=12.8415 , p=0.4601  , df=13\n",
      "likelihood ratio test: chi2=12.6869 , p=0.4723  , df=13\n",
      "parameter F test:         F=0.9370  , p=0.5140  , df_denom=498, df_num=13\n",
      "\n",
      "Granger Causality\n",
      "number of lags (no zero) 14\n",
      "ssr based F test:         F=1.2280  , p=0.2507  , df_denom=495, df_num=14\n",
      "ssr based chi2 test:   chi2=18.1988 , p=0.1979  , df=14\n",
      "likelihood ratio test: chi2=17.8899 , p=0.2118  , df=14\n",
      "parameter F test:         F=1.2280  , p=0.2507  , df_denom=495, df_num=14\n",
      "\n",
      "Granger Causality\n",
      "number of lags (no zero) 15\n",
      "ssr based F test:         F=1.1603  , p=0.2996  , df_denom=492, df_num=15\n",
      "ssr based chi2 test:   chi2=18.5008 , p=0.2373  , df=15\n",
      "likelihood ratio test: chi2=18.1811 , p=0.2533  , df=15\n",
      "parameter F test:         F=1.1603  , p=0.2996  , df_denom=492, df_num=15\n"
     ]
    }
   ],
   "source": [
    "res = grangercausalitytests(data_diff[['Percentage','Close']],maxlag=15)"
   ]
  },
  {
   "cell_type": "code",
   "execution_count": 64,
   "metadata": {},
   "outputs": [
    {
     "name": "stdout",
     "output_type": "stream",
     "text": [
      "\n",
      "Granger Causality\n",
      "number of lags (no zero) 1\n",
      "ssr based F test:         F=0.0000  , p=0.9956  , df_denom=534, df_num=1\n",
      "ssr based chi2 test:   chi2=0.0000  , p=0.9956  , df=1\n",
      "likelihood ratio test: chi2=0.0000  , p=0.9956  , df=1\n",
      "parameter F test:         F=0.0000  , p=0.9956  , df_denom=534, df_num=1\n",
      "\n",
      "Granger Causality\n",
      "number of lags (no zero) 2\n",
      "ssr based F test:         F=0.0238  , p=0.9765  , df_denom=531, df_num=2\n",
      "ssr based chi2 test:   chi2=0.0481  , p=0.9762  , df=2\n",
      "likelihood ratio test: chi2=0.0481  , p=0.9762  , df=2\n",
      "parameter F test:         F=0.0238  , p=0.9765  , df_denom=531, df_num=2\n",
      "\n",
      "Granger Causality\n",
      "number of lags (no zero) 3\n",
      "ssr based F test:         F=0.0402  , p=0.9892  , df_denom=528, df_num=3\n",
      "ssr based chi2 test:   chi2=0.1223  , p=0.9890  , df=3\n",
      "likelihood ratio test: chi2=0.1223  , p=0.9890  , df=3\n",
      "parameter F test:         F=0.0402  , p=0.9892  , df_denom=528, df_num=3\n",
      "\n",
      "Granger Causality\n",
      "number of lags (no zero) 4\n",
      "ssr based F test:         F=0.0481  , p=0.9956  , df_denom=525, df_num=4\n",
      "ssr based chi2 test:   chi2=0.1956  , p=0.9955  , df=4\n",
      "likelihood ratio test: chi2=0.1956  , p=0.9955  , df=4\n",
      "parameter F test:         F=0.0481  , p=0.9956  , df_denom=525, df_num=4\n",
      "\n",
      "Granger Causality\n",
      "number of lags (no zero) 5\n",
      "ssr based F test:         F=0.1511  , p=0.9797  , df_denom=522, df_num=5\n",
      "ssr based chi2 test:   chi2=0.7714  , p=0.9788  , df=5\n",
      "likelihood ratio test: chi2=0.7709  , p=0.9789  , df=5\n",
      "parameter F test:         F=0.1511  , p=0.9797  , df_denom=522, df_num=5\n",
      "\n",
      "Granger Causality\n",
      "number of lags (no zero) 6\n",
      "ssr based F test:         F=0.8943  , p=0.4987  , df_denom=519, df_num=6\n",
      "ssr based chi2 test:   chi2=5.5003  , p=0.4814  , df=6\n",
      "likelihood ratio test: chi2=5.4720  , p=0.4848  , df=6\n",
      "parameter F test:         F=0.8943  , p=0.4987  , df_denom=519, df_num=6\n",
      "\n",
      "Granger Causality\n",
      "number of lags (no zero) 7\n",
      "ssr based F test:         F=1.1624  , p=0.3228  , df_denom=516, df_num=7\n",
      "ssr based chi2 test:   chi2=8.3737  , p=0.3008  , df=7\n",
      "likelihood ratio test: chi2=8.3083  , p=0.3062  , df=7\n",
      "parameter F test:         F=1.1624  , p=0.3228  , df_denom=516, df_num=7\n",
      "\n",
      "Granger Causality\n",
      "number of lags (no zero) 8\n",
      "ssr based F test:         F=1.0417  , p=0.4033  , df_denom=513, df_num=8\n",
      "ssr based chi2 test:   chi2=8.6101  , p=0.3762  , df=8\n",
      "likelihood ratio test: chi2=8.5409  , p=0.3825  , df=8\n",
      "parameter F test:         F=1.0417  , p=0.4033  , df_denom=513, df_num=8\n",
      "\n",
      "Granger Causality\n",
      "number of lags (no zero) 9\n",
      "ssr based F test:         F=0.9712  , p=0.4629  , df_denom=510, df_num=9\n",
      "ssr based chi2 test:   chi2=9.0667  , p=0.4311  , df=9\n",
      "likelihood ratio test: chi2=8.9899  , p=0.4382  , df=9\n",
      "parameter F test:         F=0.9712  , p=0.4629  , df_denom=510, df_num=9\n",
      "\n",
      "Granger Causality\n",
      "number of lags (no zero) 10\n",
      "ssr based F test:         F=1.3773  , p=0.1873  , df_denom=507, df_num=10\n",
      "ssr based chi2 test:   chi2=14.3437 , p=0.1579  , df=10\n",
      "likelihood ratio test: chi2=14.1523 , p=0.1662  , df=10\n",
      "parameter F test:         F=1.3773  , p=0.1873  , df_denom=507, df_num=10\n",
      "\n",
      "Granger Causality\n",
      "number of lags (no zero) 11\n",
      "ssr based F test:         F=1.3449  , p=0.1961  , df_denom=504, df_num=11\n",
      "ssr based chi2 test:   chi2=15.4694 , p=0.1620  , df=11\n",
      "likelihood ratio test: chi2=15.2467 , p=0.1715  , df=11\n",
      "parameter F test:         F=1.3449  , p=0.1961  , df_denom=504, df_num=11\n",
      "\n",
      "Granger Causality\n",
      "number of lags (no zero) 12\n",
      "ssr based F test:         F=1.3417  , p=0.1910  , df_denom=501, df_num=12\n",
      "ssr based chi2 test:   chi2=16.9043 , p=0.1532  , df=12\n",
      "likelihood ratio test: chi2=16.6384 , p=0.1637  , df=12\n",
      "parameter F test:         F=1.3417  , p=0.1910  , df_denom=501, df_num=12\n",
      "\n",
      "Granger Causality\n",
      "number of lags (no zero) 13\n",
      "ssr based F test:         F=1.1847  , p=0.2869  , df_denom=498, df_num=13\n",
      "ssr based chi2 test:   chi2=16.2361 , p=0.2366  , df=13\n",
      "likelihood ratio test: chi2=15.9901 , p=0.2497  , df=13\n",
      "parameter F test:         F=1.1847  , p=0.2869  , df_denom=498, df_num=13\n",
      "\n",
      "Granger Causality\n",
      "number of lags (no zero) 14\n",
      "ssr based F test:         F=1.5166  , p=0.1006  , df_denom=495, df_num=14\n",
      "ssr based chi2 test:   chi2=22.4765 , p=0.0693  , df=14\n",
      "likelihood ratio test: chi2=22.0078 , p=0.0785  , df=14\n",
      "parameter F test:         F=1.5166  , p=0.1006  , df_denom=495, df_num=14\n",
      "\n",
      "Granger Causality\n",
      "number of lags (no zero) 15\n",
      "ssr based F test:         F=1.4903  , p=0.1040  , df_denom=492, df_num=15\n",
      "ssr based chi2 test:   chi2=23.7628 , p=0.0692  , df=15\n",
      "likelihood ratio test: chi2=23.2387 , p=0.0792  , df=15\n",
      "parameter F test:         F=1.4903  , p=0.1040  , df_denom=492, df_num=15\n"
     ]
    }
   ],
   "source": [
    "res = grangercausalitytests(data_diff[['Exchange','Close']],maxlag=15)"
   ]
  },
  {
   "cell_type": "code",
   "execution_count": 65,
   "metadata": {},
   "outputs": [
    {
     "name": "stdout",
     "output_type": "stream",
     "text": [
      "\n",
      "Granger Causality\n",
      "number of lags (no zero) 1\n",
      "ssr based F test:         F=0.8854  , p=0.3472  , df_denom=534, df_num=1\n",
      "ssr based chi2 test:   chi2=0.8904  , p=0.3454  , df=1\n",
      "likelihood ratio test: chi2=0.8896  , p=0.3456  , df=1\n",
      "parameter F test:         F=0.8854  , p=0.3472  , df_denom=534, df_num=1\n",
      "\n",
      "Granger Causality\n",
      "number of lags (no zero) 2\n",
      "ssr based F test:         F=0.4851  , p=0.6159  , df_denom=531, df_num=2\n",
      "ssr based chi2 test:   chi2=0.9794  , p=0.6128  , df=2\n",
      "likelihood ratio test: chi2=0.9785  , p=0.6131  , df=2\n",
      "parameter F test:         F=0.4851  , p=0.6159  , df_denom=531, df_num=2\n",
      "\n",
      "Granger Causality\n",
      "number of lags (no zero) 3\n",
      "ssr based F test:         F=0.8254  , p=0.4803  , df_denom=528, df_num=3\n",
      "ssr based chi2 test:   chi2=2.5089  , p=0.4737  , df=3\n",
      "likelihood ratio test: chi2=2.5031  , p=0.4747  , df=3\n",
      "parameter F test:         F=0.8254  , p=0.4803  , df_denom=528, df_num=3\n",
      "\n",
      "Granger Causality\n",
      "number of lags (no zero) 4\n",
      "ssr based F test:         F=0.8013  , p=0.5247  , df_denom=525, df_num=4\n",
      "ssr based chi2 test:   chi2=3.2599  , p=0.5153  , df=4\n",
      "likelihood ratio test: chi2=3.2500  , p=0.5169  , df=4\n",
      "parameter F test:         F=0.8013  , p=0.5247  , df_denom=525, df_num=4\n",
      "\n",
      "Granger Causality\n",
      "number of lags (no zero) 5\n",
      "ssr based F test:         F=0.6877  , p=0.6330  , df_denom=522, df_num=5\n",
      "ssr based chi2 test:   chi2=3.5108  , p=0.6218  , df=5\n",
      "likelihood ratio test: chi2=3.4993  , p=0.6235  , df=5\n",
      "parameter F test:         F=0.6877  , p=0.6330  , df_denom=522, df_num=5\n",
      "\n",
      "Granger Causality\n",
      "number of lags (no zero) 6\n",
      "ssr based F test:         F=0.6669  , p=0.6765  , df_denom=519, df_num=6\n",
      "ssr based chi2 test:   chi2=4.1017  , p=0.6629  , df=6\n",
      "likelihood ratio test: chi2=4.0859  , p=0.6651  , df=6\n",
      "parameter F test:         F=0.6669  , p=0.6765  , df_denom=519, df_num=6\n",
      "\n",
      "Granger Causality\n",
      "number of lags (no zero) 7\n",
      "ssr based F test:         F=0.5561  , p=0.7916  , df_denom=516, df_num=7\n",
      "ssr based chi2 test:   chi2=4.0058  , p=0.7791  , df=7\n",
      "likelihood ratio test: chi2=3.9907  , p=0.7808  , df=7\n",
      "parameter F test:         F=0.5561  , p=0.7916  , df_denom=516, df_num=7\n",
      "\n",
      "Granger Causality\n",
      "number of lags (no zero) 8\n",
      "ssr based F test:         F=0.4936  , p=0.8610  , df_denom=513, df_num=8\n",
      "ssr based chi2 test:   chi2=4.0799  , p=0.8498  , df=8\n",
      "likelihood ratio test: chi2=4.0643  , p=0.8513  , df=8\n",
      "parameter F test:         F=0.4936  , p=0.8610  , df_denom=513, df_num=8\n",
      "\n",
      "Granger Causality\n",
      "number of lags (no zero) 9\n",
      "ssr based F test:         F=0.3993  , p=0.9354  , df_denom=510, df_num=9\n",
      "ssr based chi2 test:   chi2=3.7274  , p=0.9284  , df=9\n",
      "likelihood ratio test: chi2=3.7143  , p=0.9292  , df=9\n",
      "parameter F test:         F=0.3993  , p=0.9354  , df_denom=510, df_num=9\n",
      "\n",
      "Granger Causality\n",
      "number of lags (no zero) 10\n",
      "ssr based F test:         F=0.4396  , p=0.9269  , df_denom=507, df_num=10\n",
      "ssr based chi2 test:   chi2=4.5779  , p=0.9175  , df=10\n",
      "likelihood ratio test: chi2=4.5582  , p=0.9187  , df=10\n",
      "parameter F test:         F=0.4396  , p=0.9269  , df_denom=507, df_num=10\n",
      "\n",
      "Granger Causality\n",
      "number of lags (no zero) 11\n",
      "ssr based F test:         F=0.4068  , p=0.9531  , df_denom=504, df_num=11\n",
      "ssr based chi2 test:   chi2=4.6795  , p=0.9457  , df=11\n",
      "likelihood ratio test: chi2=4.6588  , p=0.9466  , df=11\n",
      "parameter F test:         F=0.4068  , p=0.9531  , df_denom=504, df_num=11\n",
      "\n",
      "Granger Causality\n",
      "number of lags (no zero) 12\n",
      "ssr based F test:         F=0.6736  , p=0.7774  , df_denom=501, df_num=12\n",
      "ssr based chi2 test:   chi2=8.4864  , p=0.7461  , df=12\n",
      "likelihood ratio test: chi2=8.4187  , p=0.7516  , df=12\n",
      "parameter F test:         F=0.6736  , p=0.7774  , df_denom=501, df_num=12\n",
      "\n",
      "Granger Causality\n",
      "number of lags (no zero) 13\n",
      "ssr based F test:         F=0.6479  , p=0.8136  , df_denom=498, df_num=13\n",
      "ssr based chi2 test:   chi2=8.8787  , p=0.7820  , df=13\n",
      "likelihood ratio test: chi2=8.8044  , p=0.7875  , df=13\n",
      "parameter F test:         F=0.6479  , p=0.8136  , df_denom=498, df_num=13\n",
      "\n",
      "Granger Causality\n",
      "number of lags (no zero) 14\n",
      "ssr based F test:         F=0.6736  , p=0.8009  , df_denom=495, df_num=14\n",
      "ssr based chi2 test:   chi2=9.9826  , p=0.7635  , df=14\n",
      "likelihood ratio test: chi2=9.8887  , p=0.7703  , df=14\n",
      "parameter F test:         F=0.6736  , p=0.8009  , df_denom=495, df_num=14\n",
      "\n",
      "Granger Causality\n",
      "number of lags (no zero) 15\n",
      "ssr based F test:         F=0.7003  , p=0.7851  , df_denom=492, df_num=15\n",
      "ssr based chi2 test:   chi2=11.1656 , p=0.7408  , df=15\n",
      "likelihood ratio test: chi2=11.0481 , p=0.7492  , df=15\n",
      "parameter F test:         F=0.7003  , p=0.7851  , df_denom=492, df_num=15\n"
     ]
    }
   ],
   "source": [
    "res = grangercausalitytests(data_diff[['Close','Volume']],maxlag=15)"
   ]
  },
  {
   "cell_type": "code",
   "execution_count": 66,
   "metadata": {},
   "outputs": [
    {
     "name": "stdout",
     "output_type": "stream",
     "text": [
      "\n",
      "Granger Causality\n",
      "number of lags (no zero) 1\n",
      "ssr based F test:         F=0.0211  , p=0.8846  , df_denom=534, df_num=1\n",
      "ssr based chi2 test:   chi2=0.0212  , p=0.8842  , df=1\n",
      "likelihood ratio test: chi2=0.0212  , p=0.8843  , df=1\n",
      "parameter F test:         F=0.0211  , p=0.8846  , df_denom=534, df_num=1\n",
      "\n",
      "Granger Causality\n",
      "number of lags (no zero) 2\n",
      "ssr based F test:         F=0.2491  , p=0.7796  , df_denom=531, df_num=2\n",
      "ssr based chi2 test:   chi2=0.5030  , p=0.7776  , df=2\n",
      "likelihood ratio test: chi2=0.5028  , p=0.7777  , df=2\n",
      "parameter F test:         F=0.2491  , p=0.7796  , df_denom=531, df_num=2\n",
      "\n",
      "Granger Causality\n",
      "number of lags (no zero) 3\n",
      "ssr based F test:         F=1.3862  , p=0.2461  , df_denom=528, df_num=3\n",
      "ssr based chi2 test:   chi2=4.2138  , p=0.2393  , df=3\n",
      "likelihood ratio test: chi2=4.1973  , p=0.2409  , df=3\n",
      "parameter F test:         F=1.3862  , p=0.2461  , df_denom=528, df_num=3\n",
      "\n",
      "Granger Causality\n",
      "number of lags (no zero) 4\n",
      "ssr based F test:         F=1.0494  , p=0.3810  , df_denom=525, df_num=4\n",
      "ssr based chi2 test:   chi2=4.2697  , p=0.3707  , df=4\n",
      "likelihood ratio test: chi2=4.2527  , p=0.3729  , df=4\n",
      "parameter F test:         F=1.0494  , p=0.3810  , df_denom=525, df_num=4\n",
      "\n",
      "Granger Causality\n",
      "number of lags (no zero) 5\n",
      "ssr based F test:         F=0.8466  , p=0.5171  , df_denom=522, df_num=5\n",
      "ssr based chi2 test:   chi2=4.3221  , p=0.5040  , df=5\n",
      "likelihood ratio test: chi2=4.3047  , p=0.5064  , df=5\n",
      "parameter F test:         F=0.8466  , p=0.5171  , df_denom=522, df_num=5\n",
      "\n",
      "Granger Causality\n",
      "number of lags (no zero) 6\n",
      "ssr based F test:         F=1.2428  , p=0.2827  , df_denom=519, df_num=6\n",
      "ssr based chi2 test:   chi2=7.6436  , p=0.2654  , df=6\n",
      "likelihood ratio test: chi2=7.5892  , p=0.2698  , df=6\n",
      "parameter F test:         F=1.2428  , p=0.2827  , df_denom=519, df_num=6\n",
      "\n",
      "Granger Causality\n",
      "number of lags (no zero) 7\n",
      "ssr based F test:         F=1.1376  , p=0.3379  , df_denom=516, df_num=7\n",
      "ssr based chi2 test:   chi2=8.1946  , p=0.3157  , df=7\n",
      "likelihood ratio test: chi2=8.1320  , p=0.3211  , df=7\n",
      "parameter F test:         F=1.1376  , p=0.3379  , df_denom=516, df_num=7\n",
      "\n",
      "Granger Causality\n",
      "number of lags (no zero) 8\n",
      "ssr based F test:         F=1.4827  , p=0.1606  , df_denom=513, df_num=8\n",
      "ssr based chi2 test:   chi2=12.2548 , p=0.1402  , df=8\n",
      "likelihood ratio test: chi2=12.1153 , p=0.1461  , df=8\n",
      "parameter F test:         F=1.4827  , p=0.1606  , df_denom=513, df_num=8\n",
      "\n",
      "Granger Causality\n",
      "number of lags (no zero) 9\n",
      "ssr based F test:         F=1.3762  , p=0.1958  , df_denom=510, df_num=9\n",
      "ssr based chi2 test:   chi2=12.8476 , p=0.1696  , df=9\n",
      "likelihood ratio test: chi2=12.6941 , p=0.1769  , df=9\n",
      "parameter F test:         F=1.3762  , p=0.1958  , df_denom=510, df_num=9\n",
      "\n",
      "Granger Causality\n",
      "number of lags (no zero) 10\n",
      "ssr based F test:         F=1.2349  , p=0.2657  , df_denom=507, df_num=10\n",
      "ssr based chi2 test:   chi2=12.8605 , p=0.2316  , df=10\n",
      "likelihood ratio test: chi2=12.7064 , p=0.2406  , df=10\n",
      "parameter F test:         F=1.2349  , p=0.2657  , df_denom=507, df_num=10\n",
      "\n",
      "Granger Causality\n",
      "number of lags (no zero) 11\n",
      "ssr based F test:         F=1.1967  , p=0.2862  , df_denom=504, df_num=11\n",
      "ssr based chi2 test:   chi2=13.7647 , p=0.2463  , df=11\n",
      "likelihood ratio test: chi2=13.5880 , p=0.2566  , df=11\n",
      "parameter F test:         F=1.1967  , p=0.2862  , df_denom=504, df_num=11\n",
      "\n",
      "Granger Causality\n",
      "number of lags (no zero) 12\n",
      "ssr based F test:         F=1.0468  , p=0.4041  , df_denom=501, df_num=12\n",
      "ssr based chi2 test:   chi2=13.1879 , p=0.3555  , df=12\n",
      "likelihood ratio test: chi2=13.0253 , p=0.3672  , df=12\n",
      "parameter F test:         F=1.0468  , p=0.4041  , df_denom=501, df_num=12\n",
      "\n",
      "Granger Causality\n",
      "number of lags (no zero) 13\n",
      "ssr based F test:         F=0.9757  , p=0.4741  , df_denom=498, df_num=13\n",
      "ssr based chi2 test:   chi2=13.3725 , p=0.4195  , df=13\n",
      "likelihood ratio test: chi2=13.2050 , p=0.4321  , df=13\n",
      "parameter F test:         F=0.9757  , p=0.4741  , df_denom=498, df_num=13\n",
      "\n",
      "Granger Causality\n",
      "number of lags (no zero) 14\n",
      "ssr based F test:         F=0.9640  , p=0.4895  , df_denom=495, df_num=14\n",
      "ssr based chi2 test:   chi2=14.2865 , p=0.4286  , df=14\n",
      "likelihood ratio test: chi2=14.0952 , p=0.4426  , df=14\n",
      "parameter F test:         F=0.9640  , p=0.4895  , df_denom=495, df_num=14\n",
      "\n",
      "Granger Causality\n",
      "number of lags (no zero) 15\n",
      "ssr based F test:         F=0.9094  , p=0.5536  , df_denom=492, df_num=15\n",
      "ssr based chi2 test:   chi2=14.5004 , p=0.4880  , df=15\n",
      "likelihood ratio test: chi2=14.3030 , p=0.5027  , df=15\n",
      "parameter F test:         F=0.9094  , p=0.5536  , df_denom=492, df_num=15\n"
     ]
    }
   ],
   "source": [
    "res = grangercausalitytests(data_diff[['Close','Percentage']],maxlag=15)"
   ]
  },
  {
   "cell_type": "code",
   "execution_count": 67,
   "metadata": {},
   "outputs": [
    {
     "name": "stdout",
     "output_type": "stream",
     "text": [
      "\n",
      "Granger Causality\n",
      "number of lags (no zero) 1\n",
      "ssr based F test:         F=0.0335  , p=0.8549  , df_denom=534, df_num=1\n",
      "ssr based chi2 test:   chi2=0.0336  , p=0.8545  , df=1\n",
      "likelihood ratio test: chi2=0.0336  , p=0.8545  , df=1\n",
      "parameter F test:         F=0.0335  , p=0.8549  , df_denom=534, df_num=1\n",
      "\n",
      "Granger Causality\n",
      "number of lags (no zero) 2\n",
      "ssr based F test:         F=0.0601  , p=0.9417  , df_denom=531, df_num=2\n",
      "ssr based chi2 test:   chi2=0.1213  , p=0.9411  , df=2\n",
      "likelihood ratio test: chi2=0.1213  , p=0.9411  , df=2\n",
      "parameter F test:         F=0.0601  , p=0.9417  , df_denom=531, df_num=2\n",
      "\n",
      "Granger Causality\n",
      "number of lags (no zero) 3\n",
      "ssr based F test:         F=0.0487  , p=0.9858  , df_denom=528, df_num=3\n",
      "ssr based chi2 test:   chi2=0.1481  , p=0.9855  , df=3\n",
      "likelihood ratio test: chi2=0.1481  , p=0.9855  , df=3\n",
      "parameter F test:         F=0.0487  , p=0.9858  , df_denom=528, df_num=3\n",
      "\n",
      "Granger Causality\n",
      "number of lags (no zero) 4\n",
      "ssr based F test:         F=0.0856  , p=0.9869  , df_denom=525, df_num=4\n",
      "ssr based chi2 test:   chi2=0.3484  , p=0.9865  , df=4\n",
      "likelihood ratio test: chi2=0.3483  , p=0.9865  , df=4\n",
      "parameter F test:         F=0.0856  , p=0.9869  , df_denom=525, df_num=4\n",
      "\n",
      "Granger Causality\n",
      "number of lags (no zero) 5\n",
      "ssr based F test:         F=0.2309  , p=0.9490  , df_denom=522, df_num=5\n",
      "ssr based chi2 test:   chi2=1.1790  , p=0.9469  , df=5\n",
      "likelihood ratio test: chi2=1.1777  , p=0.9470  , df=5\n",
      "parameter F test:         F=0.2309  , p=0.9490  , df_denom=522, df_num=5\n",
      "\n",
      "Granger Causality\n",
      "number of lags (no zero) 6\n",
      "ssr based F test:         F=1.0739  , p=0.3770  , df_denom=519, df_num=6\n",
      "ssr based chi2 test:   chi2=6.6046  , p=0.3590  , df=6\n",
      "likelihood ratio test: chi2=6.5639  , p=0.3631  , df=6\n",
      "parameter F test:         F=1.0739  , p=0.3770  , df_denom=519, df_num=6\n",
      "\n",
      "Granger Causality\n",
      "number of lags (no zero) 7\n",
      "ssr based F test:         F=1.0136  , p=0.4205  , df_denom=516, df_num=7\n",
      "ssr based chi2 test:   chi2=7.3018  , p=0.3982  , df=7\n",
      "likelihood ratio test: chi2=7.2520  , p=0.4031  , df=7\n",
      "parameter F test:         F=1.0136  , p=0.4205  , df_denom=516, df_num=7\n",
      "\n",
      "Granger Causality\n",
      "number of lags (no zero) 8\n",
      "ssr based F test:         F=1.4782  , p=0.1622  , df_denom=513, df_num=8\n",
      "ssr based chi2 test:   chi2=12.2179 , p=0.1417  , df=8\n",
      "likelihood ratio test: chi2=12.0792 , p=0.1477  , df=8\n",
      "parameter F test:         F=1.4782  , p=0.1622  , df_denom=513, df_num=8\n",
      "\n",
      "Granger Causality\n",
      "number of lags (no zero) 9\n",
      "ssr based F test:         F=1.4440  , p=0.1662  , df_denom=510, df_num=9\n",
      "ssr based chi2 test:   chi2=13.4799 , p=0.1421  , df=9\n",
      "likelihood ratio test: chi2=13.3111 , p=0.1490  , df=9\n",
      "parameter F test:         F=1.4440  , p=0.1662  , df_denom=510, df_num=9\n",
      "\n",
      "Granger Causality\n",
      "number of lags (no zero) 10\n",
      "ssr based F test:         F=1.4097  , p=0.1724  , df_denom=507, df_num=10\n",
      "ssr based chi2 test:   chi2=14.6805 , p=0.1442  , df=10\n",
      "likelihood ratio test: chi2=14.4801 , p=0.1522  , df=10\n",
      "parameter F test:         F=1.4097  , p=0.1724  , df_denom=507, df_num=10\n",
      "\n",
      "Granger Causality\n",
      "number of lags (no zero) 11\n",
      "ssr based F test:         F=1.2774  , p=0.2340  , df_denom=504, df_num=11\n",
      "ssr based chi2 test:   chi2=14.6923 , p=0.1970  , df=11\n",
      "likelihood ratio test: chi2=14.4913 , p=0.2070  , df=11\n",
      "parameter F test:         F=1.2774  , p=0.2340  , df_denom=504, df_num=11\n",
      "\n",
      "Granger Causality\n",
      "number of lags (no zero) 12\n",
      "ssr based F test:         F=1.2886  , p=0.2213  , df_denom=501, df_num=12\n",
      "ssr based chi2 test:   chi2=16.2352 , p=0.1807  , df=12\n",
      "likelihood ratio test: chi2=15.9897 , p=0.1917  , df=12\n",
      "parameter F test:         F=1.2886  , p=0.2213  , df_denom=501, df_num=12\n",
      "\n",
      "Granger Causality\n",
      "number of lags (no zero) 13\n",
      "ssr based F test:         F=1.4493  , p=0.1328  , df_denom=498, df_num=13\n",
      "ssr based chi2 test:   chi2=19.8621 , p=0.0987  , df=13\n",
      "likelihood ratio test: chi2=19.4956 , p=0.1085  , df=13\n",
      "parameter F test:         F=1.4493  , p=0.1328  , df_denom=498, df_num=13\n",
      "\n",
      "Granger Causality\n",
      "number of lags (no zero) 14\n",
      "ssr based F test:         F=1.5919  , p=0.0774  , df_denom=495, df_num=14\n",
      "ssr based chi2 test:   chi2=23.5916 , p=0.0513  , df=14\n",
      "likelihood ratio test: chi2=23.0759 , p=0.0590  , df=14\n",
      "parameter F test:         F=1.5919  , p=0.0774  , df_denom=495, df_num=14\n",
      "\n",
      "Granger Causality\n",
      "number of lags (no zero) 15\n",
      "ssr based F test:         F=1.4672  , p=0.1128  , df_denom=492, df_num=15\n",
      "ssr based chi2 test:   chi2=23.3942 , p=0.0761  , df=15\n",
      "likelihood ratio test: chi2=22.8861 , p=0.0866  , df=15\n",
      "parameter F test:         F=1.4672  , p=0.1128  , df_denom=492, df_num=15\n"
     ]
    }
   ],
   "source": [
    "res = grangercausalitytests(data_diff[['Close','Exchange']],maxlag=15)"
   ]
  },
  {
   "cell_type": "markdown",
   "metadata": {},
   "source": [
    "# 변동성"
   ]
  },
  {
   "cell_type": "code",
   "execution_count": 68,
   "metadata": {},
   "outputs": [
    {
     "data": {
      "text/html": [
       "<div>\n",
       "<style scoped>\n",
       "    .dataframe tbody tr th:only-of-type {\n",
       "        vertical-align: middle;\n",
       "    }\n",
       "\n",
       "    .dataframe tbody tr th {\n",
       "        vertical-align: top;\n",
       "    }\n",
       "\n",
       "    .dataframe thead th {\n",
       "        text-align: right;\n",
       "    }\n",
       "</style>\n",
       "<table border=\"1\" class=\"dataframe\">\n",
       "  <thead>\n",
       "    <tr style=\"text-align: right;\">\n",
       "      <th></th>\n",
       "      <th>Close</th>\n",
       "      <th>Volume</th>\n",
       "      <th>Percentage</th>\n",
       "      <th>Exchange</th>\n",
       "    </tr>\n",
       "    <tr>\n",
       "      <th>Date</th>\n",
       "      <th></th>\n",
       "      <th></th>\n",
       "      <th></th>\n",
       "      <th></th>\n",
       "    </tr>\n",
       "  </thead>\n",
       "  <tbody>\n",
       "    <tr>\n",
       "      <th>2018-01-02</th>\n",
       "      <td>6850</td>\n",
       "      <td>787670</td>\n",
       "      <td>8.57</td>\n",
       "      <td>463388</td>\n",
       "    </tr>\n",
       "    <tr>\n",
       "      <th>2018-01-03</th>\n",
       "      <td>6950</td>\n",
       "      <td>1656541</td>\n",
       "      <td>3.41</td>\n",
       "      <td>394555</td>\n",
       "    </tr>\n",
       "    <tr>\n",
       "      <th>2018-01-04</th>\n",
       "      <td>6950</td>\n",
       "      <td>744643</td>\n",
       "      <td>6.16</td>\n",
       "      <td>319896</td>\n",
       "    </tr>\n",
       "    <tr>\n",
       "      <th>2018-01-05</th>\n",
       "      <td>7000</td>\n",
       "      <td>1136430</td>\n",
       "      <td>9.15</td>\n",
       "      <td>726918</td>\n",
       "    </tr>\n",
       "    <tr>\n",
       "      <th>2018-01-08</th>\n",
       "      <td>6930</td>\n",
       "      <td>565372</td>\n",
       "      <td>4.65</td>\n",
       "      <td>182188</td>\n",
       "    </tr>\n",
       "  </tbody>\n",
       "</table>\n",
       "</div>"
      ],
      "text/plain": [
       "            Close   Volume  Percentage  Exchange\n",
       "Date                                            \n",
       "2018-01-02   6850   787670        8.57    463388\n",
       "2018-01-03   6950  1656541        3.41    394555\n",
       "2018-01-04   6950   744643        6.16    319896\n",
       "2018-01-05   7000  1136430        9.15    726918\n",
       "2018-01-08   6930   565372        4.65    182188"
      ]
     },
     "execution_count": 68,
     "metadata": {},
     "output_type": "execute_result"
    }
   ],
   "source": [
    "data = pd.read_excel(\"한화생명.xlsx\", index_col='Date', parse_dates=True)\n",
    "data.head()"
   ]
  },
  {
   "cell_type": "code",
   "execution_count": 69,
   "metadata": {},
   "outputs": [],
   "source": [
    "data = data['Close']"
   ]
  },
  {
   "cell_type": "code",
   "execution_count": 70,
   "metadata": {},
   "outputs": [],
   "source": [
    "std = data.pct_change().dropna().std() * np.sqrt(504)   # annualized"
   ]
  },
  {
   "cell_type": "code",
   "execution_count": 71,
   "metadata": {},
   "outputs": [
    {
     "data": {
      "text/plain": [
       "0.39927267905417624"
      ]
     },
     "execution_count": 71,
     "metadata": {},
     "output_type": "execute_result"
    }
   ],
   "source": [
    "std"
   ]
  },
  {
   "cell_type": "markdown",
   "metadata": {},
   "source": [
    "# K-means Clustering"
   ]
  },
  {
   "cell_type": "code",
   "execution_count": 72,
   "metadata": {},
   "outputs": [
    {
     "name": "stdout",
     "output_type": "stream",
     "text": [
      "<class 'pandas.core.frame.DataFrame'>\n",
      "Index: 99 entries, '005930 to '009320\n",
      "Data columns (total 2 columns):\n",
      " #   Column         Non-Null Count  Dtype  \n",
      "---  ------         --------------  -----  \n",
      " 0   DailyExchange  99 non-null     float64\n",
      " 1   DailyVolume    99 non-null     float64\n",
      "dtypes: float64(2)\n",
      "memory usage: 2.3+ KB\n"
     ]
    }
   ],
   "source": [
    "data = pd.read_excel(\"scaling4.xlsx\", index_col='Code', parse_dates=True)\n",
    "data.info()"
   ]
  },
  {
   "cell_type": "code",
   "execution_count": 73,
   "metadata": {},
   "outputs": [],
   "source": [
    "### oops in python \n",
    "\n",
    "class Test:\n",
    "    def __init__(self, n):\n",
    "        pass   \n",
    "\n",
    "    def build(self, input_shape):\n",
    "        pass \n",
    "    def call(self, x):\n",
    "        return x **2 "
   ]
  },
  {
   "cell_type": "code",
   "execution_count": 74,
   "metadata": {},
   "outputs": [],
   "source": [
    "from sklearn.cluster import KMeans \n",
    "\n",
    "kmeans = KMeans()   # instantiation "
   ]
  },
  {
   "cell_type": "code",
   "execution_count": 75,
   "metadata": {},
   "outputs": [],
   "source": [
    "df= data.iloc[:,0:2]"
   ]
  },
  {
   "cell_type": "code",
   "execution_count": 76,
   "metadata": {},
   "outputs": [],
   "source": [
    "df=df.dropna()"
   ]
  },
  {
   "cell_type": "code",
   "execution_count": 77,
   "metadata": {},
   "outputs": [],
   "source": [
    "elbow_score = []\n",
    "for k in range(1, 10):\n",
    "    kmeans = KMeans(n_clusters=k)\n",
    "    kmeans.fit(df)\n",
    "    elbow_score.append(kmeans.inertia_)   # cluster's coherence"
   ]
  },
  {
   "cell_type": "code",
   "execution_count": 78,
   "metadata": {},
   "outputs": [
    {
     "data": {
      "text/plain": [
       "[<matplotlib.lines.Line2D at 0x2529eea1ee0>]"
      ]
     },
     "execution_count": 78,
     "metadata": {},
     "output_type": "execute_result"
    },
    {
     "data": {
      "image/png": "[encoded data removed]",
      "text/plain": [
       "<Figure size 432x288 with 1 Axes>"
      ]
     },
     "metadata": {
      "needs_background": "light"
     },
     "output_type": "display_data"
    }
   ],
   "source": [
    "plt.plot(elbow_score)"
   ]
  },
  {
   "cell_type": "code",
   "execution_count": 79,
   "metadata": {},
   "outputs": [],
   "source": [
    "# based on elbow score \n",
    "\n",
    "#k = 12\n",
    "k = 4\n",
    "kmeans = KMeans(n_clusters=k)\n",
    "kmeans.fit(df)\n",
    "centeroid = kmeans.cluster_centers_"
   ]
  },
  {
   "cell_type": "code",
   "execution_count": 80,
   "metadata": {},
   "outputs": [],
   "source": [
    "X=df['DailyVolume']\n",
    "Y=df['DailyExchange']"
   ]
  },
  {
   "cell_type": "code",
   "execution_count": 81,
   "metadata": {},
   "outputs": [
    {
     "data": {
      "image/png": "[encoded data removed]",
      "text/plain": [
       "<Figure size 432x288 with 1 Axes>"
      ]
     },
     "metadata": {
      "needs_background": "light"
     },
     "output_type": "display_data"
    }
   ],
   "source": [
    "plt.scatter(df['DailyVolume'], df['DailyExchange'], c=kmeans.labels_, cmap='viridis')\n",
    "plt.xlabel('DailyVolume')\n",
    "plt.ylabel('DailyExchange') \n",
    "plt.title(f\"{k}_cluster: DailyVolume vs. DailyExchange\")   \n",
    "\n",
    "\n",
    "mkrs = X.index.tolist()\n",
    "for i in range(len(df)):\n",
    "    plt.annotate(mkrs[i], (X[i], Y[i]))\n",
    "\n",
    "for i in range(len(centeroid)):\n",
    "    plt.scatter(centeroid[i, 1], centeroid[i, 0], s=1000, marker='o', linestyle=\"--\", edgecolor='r', facecolors=\"none\")\n",
    "    plt.rcParams[\"figure.figsize\"] = (3,3)"
   ]
  },
  {
   "cell_type": "code",
   "execution_count": null,
   "metadata": {},
   "outputs": [],
   "source": []
  }
 ],
 "metadata": {
  "kernelspec": {
   "display_name": "Python 3",
   "language": "python",
   "name": "python3"
  },
  "language_info": {
   "codemirror_mode": {
    "name": "ipython",
    "version": 3
   },
   "file_extension": ".py",
   "mimetype": "text/x-python",
   "name": "python",
   "nbconvert_exporter": "python",
   "pygments_lexer": "ipython3",
   "version": "3.8.3"
  }
 },
 "nbformat": 4,
 "nbformat_minor": 4
}
